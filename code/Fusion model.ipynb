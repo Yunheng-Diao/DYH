{
 "cells": [
  {
   "cell_type": "code",
   "execution_count": 1,
   "id": "a80c680b",
   "metadata": {},
   "outputs": [],
   "source": [
    "'''\n",
    "1. Load the package required by the program\n",
    "'''\n",
    "import pandas as pd\n",
    "import numpy as np\n",
    "import joblib\n",
    "from sklearn.utils import shuffle\n"
   ]
  },
  {
   "cell_type": "code",
   "execution_count": 2,
   "id": "a7d08166",
   "metadata": {},
   "outputs": [],
   "source": [
    "'''\n",
    "2. Load the trained model\n",
    "'''\n",
    "HC_SP = joblib.load(r\"E:\\DIY_feature\\vaild_data\\HC_SP\\HC_SP.pkl\")\n",
    "SP_BP = joblib.load(r'E:\\DIY_feature\\vaild_data\\SP_BP\\SP_BP.pkl') "
   ]
  },
  {
   "cell_type": "code",
   "execution_count": 3,
   "id": "02b5ded3",
   "metadata": {},
   "outputs": [],
   "source": [
    "'''\n",
    "3.Test_features: test set data;\n",
    "  HC_SP_test_features: Features of the differential diagnosis model between healthy controls and schizophrenia, \n",
    "                       in order to obtain feature names.After obtaining the feature name, the features of  \n",
    "                       healthy control and schizophrenia differential diagnosis model were extracted from the \n",
    "                       test set according to the feature name. The healthy control and schizophrenia differential \n",
    "                       diagnosis model were used to identify the healthy control in the test set, and the rest were \n",
    "                       bipolar disorder and schizophrenia.\n",
    "\n",
    "  SP_BP_test_features: Features of the differential diagnosis model for bipolar disorder and schizophrenia, \n",
    "                       in order to obtain feature names.After obtaining the feature name, the features of bipolar disorder and \n",
    "                       schizophrenia differential diagnosis model were extracted from the test set according to the feature name, \n",
    "                       and the bipolar disorder and schizophrenia differential diagnosis model were used to identify the bipolar \n",
    "                       disorder and schizophrenia in the test set.\n",
    "'''\n",
    "Test_features = pd.read_excel(r\"C:\\Users\\Yunheng\\Desktop\\paper\\data\\new\\Healthy Control, Schizophrenia and Bipolar Disorder\\test_data.xlsx\")\n",
    "HC_SP_test_features = pd.read_csv(r\"C:\\Users\\Yunheng\\Desktop\\paper\\data\\new\\Healthy Control and Schizophrenia\\Healthy Control and Schizophrenia train features.csv\")\n",
    "SP_BP_test_features = pd.read_csv(r\"C:\\Users\\Yunheng\\Desktop\\paper\\data\\new\\Schizophrenia and Bipolar Disorder\\Schizophrenia and Bipolar Disorder train features.csv\")"
   ]
  },
  {
   "cell_type": "code",
   "execution_count": 4,
   "id": "72c5ee88",
   "metadata": {},
   "outputs": [],
   "source": [
    "'''\n",
    "4. Obtain the test set label\n",
    "'''\n",
    "targets = pd.DataFrame(Test_features['disease'])"
   ]
  },
  {
   "cell_type": "code",
   "execution_count": 5,
   "id": "1e23001c",
   "metadata": {},
   "outputs": [],
   "source": [
    "'''\n",
    "5. Features required for the differential diagnosis model of schizophrenia and healthy controls were extracted from the test set\n",
    "\n",
    "'''\n",
    "HC_SP_test = pd.DataFrame()\n",
    "HC_SP_feature_index = HC_SP_test_features.drop(columns=[\"disease\"]).columns\n",
    "for i in range(len(HC_SP_feature_index)):\n",
    "    HC_SP_test[\"%s\"%HC_SP_feature_index[i]] = test_features['%s'%HC_SP_feature_index[i]].values"
   ]
  },
  {
   "cell_type": "code",
   "execution_count": 6,
   "id": "c0b31a33",
   "metadata": {},
   "outputs": [
    {
     "name": "stdout",
     "output_type": "stream",
     "text": [
      "[0 0 1 3 3 0 1 1 0 1 0 1 3 3 1 1 0 0 1 3 3 3 0 1 3 0 1 0 3 0 0 3 3 3 1 1 1\n",
      " 3 0 3 0 1]\n",
      "[1 0 1 1 1 0 1 1 0 1 0 1 1 1 1 1 0 0 1 1 1 0 0 1 1 0 1 0 1 0 0 1 1 1 1 0 1\n",
      " 1 0 1 0 1]\n"
     ]
    }
   ],
   "source": [
    "'''\n",
    "6. Healthy controls were identified based on the differential diagnosis model of healthy controls and schizophrenia\n",
    "'''\n",
    "HC_SP_Pre = HC_SP.predict(HC_SP_test)\n",
    "print(np.array(targets).reshape((-1,)))\n",
    "print(HC_SP_Pre)"
   ]
  },
  {
   "cell_type": "code",
   "execution_count": 7,
   "id": "c21e7ee2",
   "metadata": {},
   "outputs": [],
   "source": [
    "'''\n",
    "7. Obtain the position of the healthy control in the identification results\n",
    "'''\n",
    "healthy_index = []\n",
    "for i in range(len(HC_SP_Pre)):\n",
    "    if HC_SP_Pre[i] == 0:\n",
    "        healthy_index.append(i)"
   ]
  },
  {
   "cell_type": "code",
   "execution_count": 8,
   "id": "0415c565",
   "metadata": {},
   "outputs": [],
   "source": [
    "'''\n",
    "8. Delete the test set features and labels of the corresponding position according to the position of the healthy control in the identification result\n",
    "'''\n",
    "test_features = test_features.drop(test_features.index[healthy_index])"
   ]
  },
  {
   "cell_type": "code",
   "execution_count": 9,
   "id": "b7898fd1",
   "metadata": {},
   "outputs": [],
   "source": [
    "'''\n",
    "9. Extract from the test set the characteristics required for the differential diagnosis model of bipolar disorder and schizophrenia\n",
    "'''\n",
    "SP_BP_test = pd.DataFrame()\n",
    "SP_BP_feature_index = SP_BP_test_features.drop(columns=[\"disease\"]).columns\n",
    "for i in range(len(SP_BP_feature_index)):\n",
    "    SP_BP_test[\"%s\"%SP_BP_feature_index[i]] = test_features['%s'%SP_BP_feature_index[i]].values"
   ]
  },
  {
   "cell_type": "code",
   "execution_count": 10,
   "id": "12246393",
   "metadata": {},
   "outputs": [],
   "source": [
    "'''\n",
    "10. Obtain labels in the test set data deleted based on the identified position of the healthy control\n",
    "'''\n",
    "SP_BP_targets = pd.DataFrame(test_features['disease'])"
   ]
  },
  {
   "cell_type": "code",
   "execution_count": 11,
   "id": "1890f164",
   "metadata": {
    "scrolled": true
   },
   "outputs": [
    {
     "name": "stdout",
     "output_type": "stream",
     "text": [
      "[0 1 3 3 1 1 1 1 3 3 1 1 1 3 3 1 3 1 3 3 3 3 1 1 3 3 1]\n",
      "[1 1 1 3 1 1 1 1 3 3 1 1 3 3 3 1 3 1 3 3 3 3 1 1 3 3 1]\n"
     ]
    }
   ],
   "source": [
    "'''\n",
    "11. Bipolar disorder and schizophrenia are identified based on the differential diagnosis model for bipolar disorder and schizophrenia\n",
    "\n",
    "'''\n",
    "SP_BP_Pre = SP_BP.predict(SP_BP_test)\n",
    "print( np.array(SP_BP_targets).reshape((-1,)))\n",
    "print(SP_BP_Pre)"
   ]
  }
 ],
 "metadata": {
  "kernelspec": {
   "display_name": "Python 3 (ipykernel)",
   "language": "python",
   "name": "python3"
  },
  "language_info": {
   "codemirror_mode": {
    "name": "ipython",
    "version": 3
   },
   "file_extension": ".py",
   "mimetype": "text/x-python",
   "name": "python",
   "nbconvert_exporter": "python",
   "pygments_lexer": "ipython3",
   "version": "3.8.12"
  }
 },
 "nbformat": 4,
 "nbformat_minor": 5
}
