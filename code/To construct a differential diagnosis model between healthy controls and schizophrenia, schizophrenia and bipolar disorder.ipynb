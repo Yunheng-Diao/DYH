{
 "cells": [
  {
   "cell_type": "code",
   "execution_count": 1,
   "id": "3bc63a2c",
   "metadata": {},
   "outputs": [],
   "source": [
    "'''\n",
    "1. Load the package required by the program\n",
    "'''\n",
    "import pandas as pd\n",
    "import numpy as np\n",
    "import matplotlib.pyplot as plt\n",
    "import joblib\n",
    "from sklearn.feature_selection import RFE\n",
    "from sklearn.ensemble import RandomForestClassifier as RFC\n",
    "from sklearn.tree import DecisionTreeClassifier\n",
    "from sklearn.neighbors import KNeighborsClassifier\n",
    "from sklearn.ensemble import GradientBoostingClassifier\n",
    "from sklearn.svm import SVC\n",
    "from sklearn.metrics import accuracy_score\n",
    "from sklearn.model_selection import cross_val_score, train_test_split\n",
    "from sklearn.metrics import roc_curve, auc "
   ]
  },
  {
   "cell_type": "code",
   "execution_count": 2,
   "id": "3c60ef1b",
   "metadata": {},
   "outputs": [],
   "source": [
    "'''\n",
    "2. Read the training set\n",
    "'''\n",
    "HC_SP_train_data = pd.read_csv(r\"E:\\DIY_feature\\LAtest\\HC_SP\\HC_SP_train_features.csv\")\n",
    "SP_BP_train_data = pd.read_csv(r\"E:\\DIY_feature\\LAtest\\SP_BP\\SP_BP_train_features.csv\")\n",
    "\n",
    "HC_SP_train_features = HC_SP_train_data.drop(columns=\"disease\")\n",
    "SP_BP_train_features = SP_BP_train_data.drop(columns=\"disease\")\n",
    "HC_SP_train_labels = pd.DataFrame(HC_SP_train_data[\"disease\"])\n",
    "SP_BP_train_labels = pd.DataFrame(SP_BP_train_data[\"disease\"])"
   ]
  },
  {
   "cell_type": "code",
   "execution_count": 3,
   "id": "abd7ec41",
   "metadata": {},
   "outputs": [],
   "source": [
    "'''\n",
    "3. Read the test set\n",
    "'''\n",
    "HC_SP_test_data = pd.read_csv(r\"E:\\DIY_feature\\LAtest\\HC_SP\\HC_SP_features.csv\")\n",
    "SP_BP_test_data = pd.read_csv(r\"E:\\DIY_feature\\LAtest\\SP_BP\\SP_BP_features.csv\")\n",
    "\n",
    "HC_SP_test_features = HC_SP_test_data.drop(columns=\"disease\")\n",
    "SP_BP_test_features = SP_BP_test_data.drop(columns=\"disease\")\n",
    "HC_SP_test_labels = pd.DataFrame(HC_SP_test_data[\"disease\"])\n",
    "SP_BP_test_labels = pd.DataFrame(SP_BP_test_data[\"disease\"])"
   ]
  },
  {
   "cell_type": "code",
   "execution_count": 4,
   "id": "ff8c431d",
   "metadata": {},
   "outputs": [],
   "source": [
    "'''\n",
    "4. Read the validation set\n",
    "'''\n",
    "HC_SP_vaild_data = pd.read_csv(r\"C:\\Users\\Yunheng\\Desktop\\paper\\data\\new\\Healthy Control and Schizophrenia\\Healthy Control and Schizophrenia vaild features.csv\")\n",
    "SP_BP_vaild_data = pd.read_csv(r\"C:\\Users\\Yunheng\\Desktop\\paper\\data\\new\\Schizophrenia and Bipolar Disorder\\Schizophrenia and Bipolar Disorder vaild features.csv\")\n",
    "\n",
    "HC_SP_vaild_features = HC_SP_vaild_data.drop(columns=\"disease\")\n",
    "SP_BP_vaild_features = SP_BP_vaild_data.drop(columns=\"disease\")\n",
    "HC_SP_vaild_labels = pd.DataFrame(HC_SP_vaild_data[\"disease\"])\n",
    "SP_BP_vaild_labels = pd.DataFrame(SP_BP_vaild_data[\"disease\"])"
   ]
  },
  {
   "cell_type": "code",
   "execution_count": 5,
   "id": "9e0b3c11",
   "metadata": {},
   "outputs": [
    {
     "name": "stdout",
     "output_type": "stream",
     "text": [
      "Test set score: 0.9166666666666666\n",
      "Validation set score 0.95\n",
      "AUC score: 0.9444444444444444\n"
     ]
    }
   ],
   "source": [
    "'''\n",
    "5. To construct a differential diagnosis model between healthy controls and schizophrenia based on RandomForestClassifier\n",
    "'''\n",
    "HC_SP_RFC = RFC(n_estimators = 366,random_state = 5)\n",
    "HC_SP_RFC.fit(HC_SP_train_features, np.array(HC_SP_train_labels).reshape((-1,)))\n",
    "RF_score = HC_SP_RFC.score(HC_SP_test_features, np.array(HC_SP_test_labels).reshape((-1,)))\n",
    "RF_vaild_score = HC_SP_RFC.score(HC_SP_vaild_features, np.array(HC_SP_vaild_labels).reshape((-1,)))\n",
    "\n",
    "\n",
    "HC_SP_RFC_pre = HC_SP_RFC.predict(HC_SP_test_features)\n",
    "HC_SP_RFC_val = HC_SP_RFC.predict(HC_SP_vaild_features)\n",
    "\n",
    "\n",
    "fpr,tpr,threshold = roc_curve(np.array(HC_SP_vaild_labels).reshape((-1,)), HC_SP_RFC_val)\n",
    "roc_auc = auc(fpr,tpr)\n",
    "print(\"Test set score:\",RF_score)\n",
    "print(\"Validation set score\",RF_vaild_score)\n",
    "print(\"AUC score:\", roc_auc)\n"
   ]
  },
  {
   "cell_type": "code",
   "execution_count": 6,
   "id": "fcc86fbf",
   "metadata": {},
   "outputs": [
    {
     "name": "stdout",
     "output_type": "stream",
     "text": [
      "Test set score: 0.8\n",
      "AUC score: 0.8042269187986651\n"
     ]
    }
   ],
   "source": [
    "'''\n",
    "6. To construct a differential diagnosis model between healthy controls and schizophrenia based on KNeighborsClassifier\n",
    "'''\n",
    "knn = KNeighborsClassifier()\n",
    "knn.fit(HC_SP_train_features, np.array(HC_SP_train_labels).reshape((-1,)))\n",
    "y_predict_knn = knn.predict(HC_SP_test_features)\n",
    "KNN_score = accuracy_score(np.array(HC_SP_test_labels).reshape((-1,)), y_predict_knn)\n",
    "fpr,tpr,threshold = roc_curve(np.array(HC_SP_test_labels).reshape((-1,)), y_predict_knn)\n",
    "roc_auc = auc(fpr,tpr)\n",
    "print(\"Test set score:\",KNN_score)\n",
    "print(\"AUC score:\",roc_auc)"
   ]
  },
  {
   "cell_type": "code",
   "execution_count": 7,
   "id": "87c842d7",
   "metadata": {},
   "outputs": [
    {
     "name": "stdout",
     "output_type": "stream",
     "text": [
      "Test set score: 0.8666666666666667\n",
      "AUC score: 0.8665183537263625\n"
     ]
    }
   ],
   "source": [
    "'''\n",
    "7. To construct a differential diagnosis model between healthy controls and schizophrenia based on GradientBoostingClassifier\n",
    "'''\n",
    "GB = GradientBoostingClassifier()\n",
    "GB.fit(HC_SP_train_features, np.array(HC_SP_train_labels).reshape((-1,)))\n",
    "y_predict_gb = GB.predict(HC_SP_test_features)\n",
    "GB_score = accuracy_score(np.array(HC_SP_test_labels).reshape((-1,)), y_predict_gb)\n",
    "fpr,tpr,threshold = roc_curve(np.array(HC_SP_test_labels).reshape((-1,)), y_predict_gb)\n",
    "roc_auc = auc(fpr,tpr)\n",
    "print(\"Test set score:\",GB_score)\n",
    "print(\"AUC score:\",roc_auc)"
   ]
  },
  {
   "cell_type": "code",
   "execution_count": 8,
   "id": "ce994988",
   "metadata": {},
   "outputs": [
    {
     "name": "stdout",
     "output_type": "stream",
     "text": [
      "Test set score: 0.7\n",
      "AUC score: 0.7018909899888764\n"
     ]
    }
   ],
   "source": [
    "'''\n",
    "8. To construct a differential diagnosis model between healthy controls and schizophrenia based on DecisionTreeClassifier\n",
    "'''\n",
    "clf = DecisionTreeClassifier()\n",
    "clf.fit(HC_SP_train_features, np.array(HC_SP_train_labels).reshape((-1,)))\n",
    "DT_score = clf.score(HC_SP_test_features, np.array(HC_SP_test_labels).reshape((-1,)))\n",
    "y_predict_DT = clf.predict(HC_SP_test_features)\n",
    "\n",
    "fpr,tpr,threshold = roc_curve(np.array(HC_SP_test_labels).reshape((-1,)), y_predict_DT)\n",
    "roc_auc = auc(fpr,tpr)\n",
    "\n",
    "print(\"Test set score:\",DT_score)\n",
    "print(\"AUC score:\",roc_auc)"
   ]
  },
  {
   "cell_type": "code",
   "execution_count": 9,
   "id": "602f18b0",
   "metadata": {},
   "outputs": [
    {
     "name": "stdout",
     "output_type": "stream",
     "text": [
      "Test set score: 0.7833333333333333\n",
      "AUC score: 0.7869855394883203\n"
     ]
    }
   ],
   "source": [
    "'''\n",
    "9. To construct a differential diagnosis model between healthy controls and schizophrenia based on SVM\n",
    "'''\n",
    "model = SVC()\n",
    "model.fit(HC_SP_train_features, np.array(HC_SP_train_labels).reshape((-1,)))\n",
    "prediction = model.predict(HC_SP_test_features)\n",
    "SVM_score = accuracy_score(np.array(HC_SP_test_labels).reshape((-1,)), prediction)\n",
    "fpr,tpr,threshold = roc_curve(np.array(HC_SP_test_labels).reshape((-1,)), prediction)\n",
    "roc_auc = auc(fpr,tpr)\n",
    "\n",
    "print(\"Test set score:\",SVM_score)\n",
    "print(\"AUC score:\",roc_auc)"
   ]
  },
  {
   "cell_type": "code",
   "execution_count": 10,
   "id": "943e5049",
   "metadata": {},
   "outputs": [
    {
     "name": "stdout",
     "output_type": "stream",
     "text": [
      "10-fold cross validation score: 0.865\n"
     ]
    }
   ],
   "source": [
    "'''\n",
    "10. 10-fold cross-validation was performed between healthy controls and schizophrenia differential diagnosis models\n",
    "'''\n",
    "HC_SP_cross_vaild_data = pd.read_csv(r\"E:\\DIY_feature\\LAtest\\HC_SP\\HC_SP_cross_vaild_features.csv\")\n",
    "HC_SP_cross_vaild_features = HC_SP_cross_vaild_data.drop(columns=\"disease\")\n",
    "HC_SP_cross_vaild_labels = pd.DataFrame(HC_SP_cross_vaild_data[\"disease\"])\n",
    "\n",
    "HC_SP_RFC_10Fold= RFC(n_estimators = 366,random_state = 5)\n",
    "score = cross_val_score(HC_SP_RFC_10Fold, HC_SP_cross_vaild_features, np.array(HC_SP_cross_vaild_labels).reshape((-1,)), cv=10)\n",
    "print(\"10-fold cross validation score:\",score.mean())"
   ]
  },
  {
   "cell_type": "code",
   "execution_count": 11,
   "id": "3dc6adca",
   "metadata": {},
   "outputs": [],
   "source": [
    "'''\n",
    "11. Change the 1 in the test set label to 0 and the 3 to 1 in order to calculate the AUC\n",
    "'''\n",
    "labels = []\n",
    "test_labels = np.array(SP_BP_test_labels).reshape((-1,))\n",
    "for i in range(len(test_labels)):\n",
    "    if test_labels[i] == 1:\n",
    "        labels.append(0)\n",
    "    elif test_labels[i] == 3:\n",
    "        labels.append(1)"
   ]
  },
  {
   "cell_type": "code",
   "execution_count": 12,
   "id": "72f5d1f0",
   "metadata": {},
   "outputs": [
    {
     "name": "stdout",
     "output_type": "stream",
     "text": [
      "Test set score: 0.85\n",
      "Validation set score 0.7\n",
      "AUC score: 0.696969696969697\n"
     ]
    }
   ],
   "source": [
    "'''\n",
    "12. To construct a differential diagnosis model for schizophrenia and bipolar disorder based on RandomForestClassifier\n",
    "'''\n",
    "SP_BP_RFC = RFC(n_estimators = 460,random_state = 5)\n",
    "SP_BP_RFC.fit(SP_BP_train_features, np.array(SP_BP_train_labels).reshape((-1,)))\n",
    "RF_score = SP_BP_RFC.score(SP_BP_test_features, np.array(SP_BP_test_labels).reshape((-1,)))\n",
    "\n",
    "RF_vaild_score = SP_BP_RFC.score(SP_BP_vaild_features, np.array(SP_BP_vaild_labels).reshape((-1,)))\n",
    "\n",
    "\n",
    "SP_BP_RFC_pre = SP_BP_RFC.predict(SP_BP_test_features)\n",
    "SP_BP_RFC_val = SP_BP_RFC.predict(SP_BP_vaild_features)\n",
    "\n",
    "\n",
    "val_labels = []\n",
    "vallabels = np.array(SP_BP_vaild_labels).reshape((-1,))\n",
    "for i in range(len(vallabels)):\n",
    "    if vallabels[i] == 1:\n",
    "        val_labels.append(0)\n",
    "    elif vallabels[i] == 3:\n",
    "        val_labels.append(1)\n",
    "\n",
    "\n",
    "predict_result = []\n",
    "for i in range(len(SP_BP_RFC_val)):\n",
    "    if SP_BP_RFC_val[i] == 1:\n",
    "        predict_result.append(0)\n",
    "    elif SP_BP_RFC_val[i] == 3:\n",
    "        predict_result.append(1)\n",
    "\n",
    "fpr,tpr,threshold = roc_curve(val_labels, predict_result)\n",
    "roc_auc = auc(fpr,tpr)\n",
    "\n",
    "print(\"Test set score:\",RF_score)\n",
    "print(\"Validation set score\",RF_vaild_score)\n",
    "print(\"AUC score:\",roc_auc)"
   ]
  },
  {
   "cell_type": "code",
   "execution_count": 13,
   "id": "7ba2cb56",
   "metadata": {},
   "outputs": [
    {
     "name": "stdout",
     "output_type": "stream",
     "text": [
      "Test set score: 0.5833333333333334\n",
      "AUC score: 0.5878754171301446\n"
     ]
    }
   ],
   "source": [
    "'''\n",
    "13. To construct a differential diagnosis model for schizophrenia and bipolar disorder based on KNeighborsClassifier\n",
    "'''\n",
    "\n",
    "knn = KNeighborsClassifier()\n",
    "knn.fit(SP_BP_train_features, np.array(SP_BP_train_labels).reshape((-1,)))\n",
    "y_predict_knn = knn.predict(SP_BP_test_features)\n",
    "KNN_score = accuracy_score(np.array(SP_BP_test_labels).reshape((-1,)), y_predict_knn)\n",
    "\n",
    "predict_result = []\n",
    "for i in range(len(y_predict_knn)):\n",
    "    if y_predict_knn[i] == 1:\n",
    "        predict_result.append(0)\n",
    "    elif y_predict_knn[i] == 3:\n",
    "        predict_result.append(1)\n",
    "\n",
    "fpr,tpr,threshold = roc_curve(labels, predict_result)\n",
    "roc_auc = auc(fpr,tpr)\n",
    "\n",
    "print(\"Test set score:\",KNN_score)\n",
    "print(\"AUC score:\",roc_auc)"
   ]
  },
  {
   "cell_type": "code",
   "execution_count": 14,
   "id": "b48f0ad7",
   "metadata": {},
   "outputs": [
    {
     "name": "stdout",
     "output_type": "stream",
     "text": [
      "Test set score: 0.7166666666666667\n",
      "AUC score: 0.7180200222469412\n"
     ]
    }
   ],
   "source": [
    "'''\n",
    "14. To construct a differential diagnosis model for schizophrenia and bipolar disorder based on GradientBoostingClassifier\n",
    "'''\n",
    "\n",
    "GB = GradientBoostingClassifier()\n",
    "GB.fit(SP_BP_train_features, np.array(SP_BP_train_labels).reshape((-1,)))\n",
    "y_predict_gb = GB.predict(SP_BP_test_features)\n",
    "GB_score = accuracy_score(np.array(SP_BP_test_labels).reshape((-1,)), y_predict_gb)\n",
    "\n",
    "predict_result = []\n",
    "for i in range(len(y_predict_gb)):\n",
    "    if y_predict_gb[i] == 1:\n",
    "        predict_result.append(0)\n",
    "    elif y_predict_gb[i] == 3:\n",
    "        predict_result.append(1)\n",
    "\n",
    "fpr,tpr,threshold = roc_curve(labels, predict_result)\n",
    "roc_auc = auc(fpr,tpr)\n",
    "\n",
    "print(\"Test set score:\",GB_score)\n",
    "print(\"AUC score:\",roc_auc)"
   ]
  },
  {
   "cell_type": "code",
   "execution_count": 15,
   "id": "57297291",
   "metadata": {},
   "outputs": [
    {
     "name": "stdout",
     "output_type": "stream",
     "text": [
      "Test set score: 0.5833333333333334\n",
      "AUC score: 0.5845383759733036\n"
     ]
    }
   ],
   "source": [
    "'''\n",
    "15. To construct a differential diagnosis model for schizophrenia and bipolar disorder based on DecisionTreeClassifier\n",
    "'''\n",
    "\n",
    "\n",
    "clf = DecisionTreeClassifier()\n",
    "clf.fit(SP_BP_train_features, np.array(SP_BP_train_labels).reshape((-1,)))\n",
    "DT_score = clf.score(SP_BP_test_features, np.array(SP_BP_test_labels).reshape((-1,)))\n",
    "y_predict_DT = clf.predict(SP_BP_test_features)\n",
    "\n",
    "predict_result = []\n",
    "for i in range(len(y_predict_DT)):\n",
    "    if y_predict_DT[i] == 1:\n",
    "        predict_result.append(0)\n",
    "    elif y_predict_DT[i] == 3:\n",
    "        predict_result.append(1)\n",
    "\n",
    "fpr,tpr,threshold = roc_curve(labels, predict_result)\n",
    "roc_auc = auc(fpr,tpr)\n",
    "\n",
    "print(\"Test set score:\",DT_score)\n",
    "print(\"AUC score:\",roc_auc)"
   ]
  },
  {
   "cell_type": "code",
   "execution_count": 16,
   "id": "ed50aa62",
   "metadata": {},
   "outputs": [
    {
     "name": "stdout",
     "output_type": "stream",
     "text": [
      "Test set score: 0.7333333333333333\n",
      "AUC score: 0.728587319243604\n"
     ]
    }
   ],
   "source": [
    "'''\n",
    "16. To construct a differential diagnosis model for schizophrenia and bipolar disorder based on SVM\n",
    "'''\n",
    "\n",
    "model = SVC()\n",
    "model.fit(SP_BP_train_features, np.array(SP_BP_train_labels).reshape((-1,)))\n",
    "prediction = model.predict(SP_BP_test_features)\n",
    "#     confusion_matrix = confusion_matrix(y_test,prediction)\n",
    "SVM_score = accuracy_score(np.array(SP_BP_test_labels).reshape((-1,)), prediction)\n",
    "\n",
    "predict_result = []\n",
    "for i in range(len(prediction)):\n",
    "    if prediction[i] == 1:\n",
    "        predict_result.append(0)\n",
    "    elif prediction[i] == 3:\n",
    "        predict_result.append(1)\n",
    "\n",
    "fpr,tpr,threshold = roc_curve(labels, predict_result)\n",
    "roc_auc = auc(fpr,tpr)\n",
    "\n",
    "print(\"Test set score:\",SVM_score)\n",
    "print(\"AUC score:\",roc_auc)"
   ]
  },
  {
   "cell_type": "code",
   "execution_count": 17,
   "id": "bc05be67",
   "metadata": {},
   "outputs": [
    {
     "name": "stdout",
     "output_type": "stream",
     "text": [
      "10-fold cross validation score: 0.85\n"
     ]
    }
   ],
   "source": [
    "'''\n",
    "17. 10-fold cross-validation of the differential diagnosis model between schizophrenia and bipolar disorder\n",
    "'''\n",
    "SP_BP_cross_vaild_data = pd.read_csv(r\"E:\\DIY_feature\\LAtest\\SP_BP\\SP_BP_cross_vaild_features.csv\")\n",
    "SP_BP_cross_vaild_features = SP_BP_cross_vaild_data.drop(columns=\"disease\")\n",
    "SP_BP_cross_vaild_labels = pd.DataFrame(SP_BP_cross_vaild_data[\"disease\"])\n",
    "\n",
    "\n",
    "SP_BP_RFC_10Fold  = RFC(n_estimators = 460,random_state = 5)\n",
    "score = cross_val_score(SP_BP_RFC_10Fold, SP_BP_cross_vaild_features, np.array(SP_BP_cross_vaild_labels).reshape((-1,)), cv=10)\n",
    "print(\"10-fold cross validation score:\",score.mean())"
   ]
  }
 ],
 "metadata": {
  "kernelspec": {
   "display_name": "Python 3 (ipykernel)",
   "language": "python",
   "name": "python3"
  },
  "language_info": {
   "codemirror_mode": {
    "name": "ipython",
    "version": 3
   },
   "file_extension": ".py",
   "mimetype": "text/x-python",
   "name": "python",
   "nbconvert_exporter": "python",
   "pygments_lexer": "ipython3",
   "version": "3.8.12"
  }
 },
 "nbformat": 4,
 "nbformat_minor": 5
}
