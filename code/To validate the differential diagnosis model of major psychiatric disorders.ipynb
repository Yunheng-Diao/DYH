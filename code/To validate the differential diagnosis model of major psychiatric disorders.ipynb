{
 "cells": [
  {
   "cell_type": "code",
   "execution_count": 5,
   "id": "09e0d744",
   "metadata": {},
   "outputs": [],
   "source": [
    "'''\n",
    "This part of the code comment is similar to the fusion model, refer to the fusion model file\n",
    "'''\n",
    "import pandas as pd\n",
    "import numpy as np\n",
    "import joblib\n",
    "from sklearn.utils import shuffle\n"
   ]
  },
  {
   "cell_type": "code",
   "execution_count": 6,
   "id": "e6d5ccec",
   "metadata": {},
   "outputs": [],
   "source": [
    "HC_SP = joblib.load(r\"E:\\DIY_feature\\vaild_data\\HC_SP\\HC_SP.pkl\")\n",
    "SP_BP = joblib.load(r'E:\\DIY_feature\\vaild_data\\SP_BP\\SP_BP.pkl') "
   ]
  },
  {
   "cell_type": "code",
   "execution_count": 7,
   "id": "0e25d080",
   "metadata": {},
   "outputs": [],
   "source": [
    "Vaild_features = pd.read_excel(r\"C:\\Users\\Yunheng\\Desktop\\paper\\data\\new\\Healthy Control, Schizophrenia and Bipolar Disorder\\vaild_data.xlsx\")\n",
    "HC_SP_test_features = pd.read_csv(r\"C:\\Users\\Yunheng\\Desktop\\paper\\data\\new\\Healthy Control and Schizophrenia\\Healthy Control and Schizophrenia train features.csv\")\n",
    "SP_BP_test_features = pd.read_csv(r\"C:\\Users\\Yunheng\\Desktop\\paper\\data\\new\\Schizophrenia and Bipolar Disorder\\Schizophrenia and Bipolar Disorder train features.csv\")\n"
   ]
  },
  {
   "cell_type": "code",
   "execution_count": 8,
   "id": "b76824ad",
   "metadata": {},
   "outputs": [],
   "source": [
    "targets = pd.DataFrame(Vaild_features['disease'])"
   ]
  },
  {
   "cell_type": "code",
   "execution_count": 9,
   "id": "759c829b",
   "metadata": {},
   "outputs": [],
   "source": [
    "HC_SP_test = pd.DataFrame()\n",
    "HC_SP_feature_index = HC_SP_test_features.drop(columns=[\"disease\"]).columns\n",
    "for i in range(len(HC_SP_feature_index)):\n",
    "    HC_SP_test[\"%s\"%HC_SP_feature_index[i]] = vaild_features['%s'%HC_SP_feature_index[i]].values"
   ]
  },
  {
   "cell_type": "code",
   "execution_count": 10,
   "id": "b61678df",
   "metadata": {},
   "outputs": [
    {
     "name": "stdout",
     "output_type": "stream",
     "text": [
      "[0 0 1 0 1 3 3 1 3 0 1 0 1 1 3 1 0 0 3 1 3]\n",
      "[1 0 1 0 1 1 1 1 1 0 1 0 1 1 0 1 0 0 1 1 1]\n"
     ]
    }
   ],
   "source": [
    "HC_SP_Pre = HC_SP.predict(HC_SP_test)\n",
    "print( np.array(targets).reshape((-1,)))\n",
    "print(HC_SP_Pre)"
   ]
  },
  {
   "cell_type": "code",
   "execution_count": 11,
   "id": "0a1e2f27",
   "metadata": {},
   "outputs": [],
   "source": [
    "healthy_index = []\n",
    "for i in range(len(HC_SP_Pre)):\n",
    "    if HC_SP_Pre[i] == 0:\n",
    "        healthy_index.append(i)"
   ]
  },
  {
   "cell_type": "code",
   "execution_count": 12,
   "id": "d2ffc503",
   "metadata": {},
   "outputs": [],
   "source": [
    "vaild_features = vaild_features.drop(vaild_features.index[healthy_index])"
   ]
  },
  {
   "cell_type": "code",
   "execution_count": 13,
   "id": "82f1e91b",
   "metadata": {},
   "outputs": [],
   "source": [
    "SP_BP_test = pd.DataFrame()\n",
    "SP_BP_feature_index = SP_BP_test_features.drop(columns=[\"disease\"]).columns\n",
    "for i in range(len(SP_BP_feature_index)):\n",
    "    SP_BP_test[\"%s\"%SP_BP_feature_index[i]] = vaild_features['%s'%SP_BP_feature_index[i]].values"
   ]
  },
  {
   "cell_type": "code",
   "execution_count": 14,
   "id": "4bab6150",
   "metadata": {},
   "outputs": [],
   "source": [
    "SP_BP_targets = pd.DataFrame(vaild_features['disease'])"
   ]
  },
  {
   "cell_type": "code",
   "execution_count": 15,
   "id": "b1e4e364",
   "metadata": {},
   "outputs": [
    {
     "name": "stdout",
     "output_type": "stream",
     "text": [
      "[0 1 1 3 3 1 3 1 1 1 1 3 1 3]\n",
      "[1 1 1 3 1 1 3 1 1 1 1 3 3 3]\n"
     ]
    }
   ],
   "source": [
    "SP_BP_Pre = SP_BP.predict(SP_BP_test)\n",
    "print( np.array(SP_BP_targets).reshape((-1,)))\n",
    "print(SP_BP_Pre)"
   ]
  }
 ],
 "metadata": {
  "kernelspec": {
   "display_name": "Python 3 (ipykernel)",
   "language": "python",
   "name": "python3"
  },
  "language_info": {
   "codemirror_mode": {
    "name": "ipython",
    "version": 3
   },
   "file_extension": ".py",
   "mimetype": "text/x-python",
   "name": "python",
   "nbconvert_exporter": "python",
   "pygments_lexer": "ipython3",
   "version": "3.8.12"
  }
 },
 "nbformat": 4,
 "nbformat_minor": 5
}
